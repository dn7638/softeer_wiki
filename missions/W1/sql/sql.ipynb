{
 "cells": [
  {
   "cell_type": "code",
   "execution_count": null,
   "metadata": {},
   "outputs": [],
   "source": [
    "# init\n",
    "import sqlite3\n",
    "import csv\n"
   ]
  },
  {
   "cell_type": "markdown",
   "metadata": {},
   "source": [
    "## DB 만들기\n",
    "### Example를 수행하기 위해 교육 사이트에서 제공하는 DB 쿼리를 CSV파일로 저장한 후 직접 DB파일을 만들어 과제를 수행하였습니다.\n",
    "* reference : https://www.w3schools.com/sql/trysql.asp?filename=trysql_customers"
   ]
  },
  {
   "cell_type": "code",
   "execution_count": null,
   "metadata": {},
   "outputs": [],
   "source": [
    "## init db\n",
    "csv_file = 'colors.csv'\n",
    "\n",
    "conn = sqlite3.connect('test2.db')\n",
    "cursor = conn.cursor()\n",
    "\n",
    "\n",
    "table = ['Customers', 'Categories', 'Employees', 'OrderDetails', 'Orders', 'Products', 'Shippers', 'Suppliers']\n",
    "# 'INTEGER'\n",
    "# 'TEXT'\n",
    "# 'BOOL'\n",
    "features = {'Customers' : ['CustomerID INTEGER PRIMARY KEY', 'CustomerName TEXT', 'ContactName TEXT', 'Address TEXT', 'City TEXT', 'PostalCode TEXT', 'Country TEXT'],\n",
    "            'Categories' : ['CategoryID INTEGER PRIMARY KEY', 'CategoryName TEXT','Description TEXT'], \n",
    "            'Employees' : ['EmployeeID INTEGER PRIMARY KEY',    'LastName TEXT',    'FirstName TEXT',   'BirthDate TEXT',   'Photo TEXT',   'Notes TEXT'], \n",
    "            'OrderDetails' : ['OrderDetailID INTEGER PRIMARY KEY',  'OrderID TEXT', 'ProductID TEXT',   'Quantity INTEGER'], \n",
    "            'Orders' : ['OrderID INTEGER PRIMARY KEY',  'CustomerID TEXT',  'EmployeeID TEXT',  'OrderDate TEXT',   'ShipperID TEXT'],\n",
    "            'Products' : ['ProductID INTEGER PRIMARY KEY',  'ProductName TEXT', 'SupplierID TEXT',  'CategoryID TEXT',  'Unit TEXT',    'Price FLOAT'], \n",
    "            'Shippers' : ['ShipperID INTEGER PRIMARY KEY',  'ShipperName TEXT', 'Phone TEXT'], \n",
    "            'Suppliers' : ['SupplierID INTEGER PRIMARY KEY',    'SupplierName TEXT',    'ContactName TEXT', 'Address TEXT', 'City TEXT',    'PostalCode TEXT',  'Country TEXT', 'Phone TEXT']}\n",
    "\n",
    "header = {'Customers' : ['CustomerID', 'CustomerName', 'ContactName', 'Address', 'City', 'PostalCode', 'Country'],\n",
    "            'Categories' : ['CategoryID', 'CategoryName','Description'], \n",
    "            'Employees' : ['EmployeeID', 'LastName',  'FirstName',    'BirthDate',    'Photo',    'Notes'], \n",
    "            'OrderDetails' : ['OrderDetailID', 'OrderID',    'ProductID',    'Quantity'], \n",
    "            'Orders' : ['OrderID', 'CustomerID',   'EmployeeID',   'OrderDate',    'ShipperID'],\n",
    "            'Products' : ['ProductID', 'ProductName',    'SupplierID',   'CategoryID',   'Unit', 'Price'], \n",
    "            'Shippers' : ['ShipperID', 'ShipperName',    'Phone'], \n",
    "            'Suppliers' : ['SupplierID', 'SupplierName',  'ContactName',  'Address',  'City', 'PostalCode',   'Country',  'Phone']}\n",
    "\n",
    "\n",
    "for table_name in table:\n",
    "    feature_string = ', '.join(features[table_name])\n",
    "    create_table_sql = f\"\"\"\n",
    "CREATE TABLE IF NOT EXISTS {table_name} (\n",
    "    {feature_string}\n",
    ");\n",
    "\"\"\"\n",
    "    cursor.execute(create_table_sql)\n",
    "\n",
    "    csv_file = f'rawdata/{table_name}.csv'\n",
    "    print(table_name)\n",
    "    with open(csv_file, 'r', newline='', encoding='utf-8') as f:\n",
    "        reader = csv.reader(f)\n",
    "        para = ['?' for _ in range(len(header[table_name]))]\n",
    "        next(reader)  # 첫 줄은 헤더이므로 건너뜁니다.\n",
    "        for row in reader:\n",
    "            print(', '.join(header[table_name]))\n",
    "            print(', '.join(para))\n",
    "            cursor.execute(f'INSERT INTO {table_name} ({', '.join(header[table_name])}) VALUES ({', '.join(para)})', row)\n",
    "    conn.commit()\n",
    "\n",
    "conn.close()\n"
   ]
  },
  {
   "cell_type": "code",
   "execution_count": null,
   "metadata": {},
   "outputs": [],
   "source": [
    "############### test.db\n",
    "###############\n",
    "## init db\n",
    "\n",
    "# csv_file = 'colors.csv'\n",
    "# conn = sqlite3.connect('test.db')\n",
    "# cursor = conn.cursor()\n",
    "# create_table_sql = \"\"\"\n",
    "# CREATE TABLE IF NOT EXISTS data (\n",
    "#     id INTEGER PRIMARY KEY,\n",
    "#     name TEXT,\n",
    "#     rgb INTEGER,\n",
    "#     is_trans BOOL\n",
    "# );\n",
    "# \"\"\"\n",
    "\n",
    "# cursor.execute(create_table_sql)\n",
    "\n",
    "# with open(csv_file, 'r', newline='', encoding='utf-8') as f:\n",
    "#     reader = csv.reader(f)\n",
    "#     next(reader)  # 첫 줄은 헤더이므로 건너뜁니다.\n",
    "#     for row in reader:\n",
    "#         cursor.execute('INSERT INTO data (id, name, rgb, is_trans) VALUES (?, ?, ?, ?)', row)\n",
    "\n",
    "# # 변경사항 저장\n",
    "# conn.commit()\n",
    "\n",
    "# # 연결 닫기\n",
    "# conn.close()"
   ]
  },
  {
   "cell_type": "code",
   "execution_count": null,
   "metadata": {},
   "outputs": [],
   "source": [
    "# connection object 는 context manager입니다.\n",
    "conn = sqlite3.connect('test.db')\n",
    "cur = conn.cursor()\n",
    "cur.execute('select * from data')\n",
    "rows = cur.fetchall()\n",
    "\n",
    "for i in rows:\n",
    "    print(i)\n",
    "\n",
    "conn.close()\n"
   ]
  },
  {
   "cell_type": "code",
   "execution_count": null,
   "metadata": {},
   "outputs": [],
   "source": [
    "# with 절을 사용하여 자동으로 close 할 수 있음\n",
    "# with 절에 대하여 자세히 알아보기\n",
    "with sqlite3.connect('test.db') as conn:\n",
    "    cur = conn.cursor()\n",
    "    cur.execute('select * from data')\n",
    "    rows = cur.fetchall()\n",
    "\n",
    "    for row in rows:\n",
    "        print(row)"
   ]
  },
  {
   "cell_type": "code",
   "execution_count": null,
   "metadata": {},
   "outputs": [],
   "source": [
    "# to make the code reusable\n",
    "# can define a function\n",
    "\n",
    "def get_task_by_id(id):\n",
    "    try:\n",
    "        with sqlite3.connect('test.db') as conn:\n",
    "            cur = conn.cursor()\n",
    "            cur.execute('select * from data where id =?', (id,))\n",
    "            row = cur.fetchone()\n",
    "            if row:\n",
    "                print(row)\n",
    "                #return row\n",
    "    except sqlite3.Error as e:\n",
    "        print('error')\n",
    "        print(e)\n",
    "\n",
    "get_task_by_id(10)"
   ]
  },
  {
   "cell_type": "markdown",
   "metadata": {},
   "source": [
    "# Tutorial\n",
    "\n",
    "* Example\n",
    "```sql\n",
    "SELECT * FROM _data;\n",
    "```"
   ]
  },
  {
   "cell_type": "code",
   "execution_count": null,
   "metadata": {},
   "outputs": [],
   "source": [
    "with sqlite3.connect('test.db') as conn:\n",
    "    cur = conn.cursor()\n",
    "    cur.execute('select * from data')\n",
    "    rows = cur.fetchall()\n",
    "\n",
    "    for row in rows:\n",
    "        print(row)"
   ]
  },
  {
   "cell_type": "markdown",
   "metadata": {},
   "source": [
    "# Tutorial\n",
    "\n",
    "* Example\n",
    "```sql\n",
    "SELECT DISTINCT * FROM _data;\n",
    "```"
   ]
  },
  {
   "cell_type": "code",
   "execution_count": null,
   "metadata": {},
   "outputs": [],
   "source": [
    "# db : test.db\n",
    "# table : data\n",
    "# attribute : id, name, rgb, is_trans\n",
    "with sqlite3.connect('test.db') as conn:\n",
    "    cur = conn.cursor()\n",
    "    cur.execute('SELECT DISTINCT rgb from data')\n",
    "    rows = cur.fetchall()\n",
    "\n",
    "    for row in rows:\n",
    "        print(row)\n",
    "    print(len(rows))"
   ]
  },
  {
   "cell_type": "code",
   "execution_count": null,
   "metadata": {},
   "outputs": [],
   "source": [
    "# db : test.db\n",
    "# table : data\n",
    "# attribute : id, name, rgb, is_trans\n",
    "with sqlite3.connect('test.db') as conn:\n",
    "    cur = conn.cursor()\n",
    "    cur.execute('SELECT rgb from data')\n",
    "    rows = cur.fetchall()\n",
    "\n",
    "    for row in rows:\n",
    "        print(row)\n",
    "    print(len(rows))"
   ]
  },
  {
   "cell_type": "markdown",
   "metadata": {},
   "source": [
    "* Example\n",
    "```sql\n",
    "SELECT COUNT(DISTINCT Country) FROM Customers;\n",
    "\n",
    "\n",
    "SELECT Count(*) AS DistinctCountries\n",
    "FROM (SELECT DISTINCT Country FROM Customers);\n",
    "```"
   ]
  },
  {
   "cell_type": "code",
   "execution_count": null,
   "metadata": {},
   "outputs": [],
   "source": [
    "with sqlite3.connect('test.db') as conn:\n",
    "    cur = conn.cursor()\n",
    "    cur.execute('SELECT COUNT(DISTINCT rgb) FROM data;')\n",
    "    rows = cur.fetchall()\n",
    "\n",
    "    for row in rows:\n",
    "        print(row)"
   ]
  },
  {
   "cell_type": "code",
   "execution_count": null,
   "metadata": {},
   "outputs": [],
   "source": [
    "with sqlite3.connect('test.db') as conn:\n",
    "    cur = conn.cursor()\n",
    "    cur.execute('SELECT Count(*) AS DistinctRgb \\\n",
    "                FROM (SELECT DISTINCT rgb FROM data);')\n",
    "    rows = cur.fetchall()\n",
    "\n",
    "    for row in rows:\n",
    "        print(row)"
   ]
  },
  {
   "cell_type": "markdown",
   "metadata": {},
   "source": [
    "* Example\n",
    "```sql\n",
    "SELECT * FROM Customers\n",
    "WHERE Country='Mexico';\n",
    "```"
   ]
  },
  {
   "cell_type": "code",
   "execution_count": null,
   "metadata": {},
   "outputs": [],
   "source": [
    "with sqlite3.connect('test.db') as conn:\n",
    "    cur = conn.cursor()\n",
    "    cur.execute(\"SELECT * FROM data \\\n",
    "                WHERE rgb='000000';\")\n",
    "    rows = cur.fetchall()\n",
    "\n",
    "    for row in rows:\n",
    "        print(row)"
   ]
  },
  {
   "cell_type": "markdown",
   "metadata": {},
   "source": [
    "* Example\n",
    "```sql\n",
    "SELECT * FROM Customers\n",
    "WHERE CustomerID=1;\n",
    "```"
   ]
  },
  {
   "cell_type": "code",
   "execution_count": null,
   "metadata": {},
   "outputs": [],
   "source": [
    "with sqlite3.connect('test.db') as conn:\n",
    "    cur = conn.cursor()\n",
    "    cur.execute(\"SELECT * FROM data \\\n",
    "                WHERE id=2;\")\n",
    "    rows = cur.fetchall()\n",
    "\n",
    "    for row in rows:\n",
    "        print(row)"
   ]
  },
  {
   "cell_type": "markdown",
   "metadata": {},
   "source": [
    "* Example\n",
    "```sql\n",
    "SELECT * FROM Customers\n",
    "WHERE CustomerID > 80;\n",
    "```"
   ]
  },
  {
   "cell_type": "code",
   "execution_count": null,
   "metadata": {},
   "outputs": [],
   "source": [
    "with sqlite3.connect('test.db') as conn:\n",
    "    cur = conn.cursor()\n",
    "    cur.execute(\"SELECT * FROM data \\\n",
    "                WHERE id > 500;\")\n",
    "    rows = cur.fetchall()\n",
    "\n",
    "    for row in rows:\n",
    "        print(row)"
   ]
  },
  {
   "cell_type": "code",
   "execution_count": null,
   "metadata": {},
   "outputs": [],
   "source": [
    "## 쿼리문을 수행하고 수행 결과를 메모리에 적재시켜 출력하는 과정을 모듈화 해보겠습니다.\n",
    "def execute_sql(sql_text):\n",
    "    with sqlite3.connect('test.db') as conn:\n",
    "        cur = conn.cursor()\n",
    "        cur.execute(sql_text)\n",
    "        rows = cur.fetchall()\n",
    "\n",
    "        for row in rows:\n",
    "            print(row)\n",
    "\n",
    "def execute_sql_db(sql_text, db):\n",
    "    with sqlite3.connect(db) as conn:\n",
    "        cur = conn.cursor()\n",
    "        cur.execute(sql_text)\n",
    "        rows = cur.fetchall()\n",
    "\n",
    "        for row in rows:\n",
    "            print(row)"
   ]
  },
  {
   "cell_type": "markdown",
   "metadata": {},
   "source": [
    "### The ORDER BY keyword is used to sort the result-set in ascending or descending order.\n",
    "* Example\n",
    "```sql\n",
    "SELECT * FROM Products\n",
    "ORDER BY Price;\n",
    "```"
   ]
  },
  {
   "cell_type": "code",
   "execution_count": null,
   "metadata": {},
   "outputs": [],
   "source": [
    "execute_sql('SELECT * FROM data ORDER BY id;')"
   ]
  },
  {
   "cell_type": "markdown",
   "metadata": {},
   "source": [
    "* Example\n",
    "```sql\n",
    "SELECT * FROM Products\n",
    "ORDER BY Price DESC;\n",
    "```"
   ]
  },
  {
   "cell_type": "code",
   "execution_count": null,
   "metadata": {},
   "outputs": [],
   "source": [
    "execute_sql('SELECT *\\\n",
    "             FROM data\\\n",
    "             ORDER BY id DESC;')"
   ]
  },
  {
   "cell_type": "markdown",
   "metadata": {},
   "source": [
    "### For string values the ORDER BY keyword will order alphabetically\n",
    "* Example\n",
    "```sql\n",
    "SELECT * FROM Products\n",
    "ORDER BY ProductName;\n",
    "```"
   ]
  },
  {
   "cell_type": "code",
   "execution_count": null,
   "metadata": {},
   "outputs": [],
   "source": [
    "execute_sql('SELECT * FROM data\\\n",
    "             ORDER BY rgb;')"
   ]
  },
  {
   "cell_type": "markdown",
   "metadata": {},
   "source": [
    "### To sort the table reverse alphabetically, use the DESC keyword:\n",
    "* Example\n",
    "```sql\n",
    "SELECT * FROM Products\n",
    "ORDER BY ProductName DESC;\n",
    "```"
   ]
  },
  {
   "cell_type": "code",
   "execution_count": null,
   "metadata": {},
   "outputs": [],
   "source": [
    "execute_sql(\"SELECT * \\\n",
    "             FROM data\\\n",
    "             ORDER BY rgb DESC;\")"
   ]
  },
  {
   "cell_type": "markdown",
   "metadata": {},
   "source": [
    "### ORDER BY Several Columns\n",
    "##### The following SQL statement selects all customers from the \"Customers\" table, sorted by the \"Country\" and the \"CustomerName\" column. This means that it orders by Country, but if some rows have the same Country, it orders them by CustomerName:\n",
    "\n",
    "* Example\n",
    "```sql\n",
    "SELECT * FROM Customers\n",
    "ORDER BY Country, CustomerName;\n",
    "```"
   ]
  },
  {
   "cell_type": "code",
   "execution_count": null,
   "metadata": {},
   "outputs": [],
   "source": [
    "execute_sql(\"SELECT * \\\n",
    "            FROM data\\\n",
    "            ORDER BY id, name;\")"
   ]
  },
  {
   "cell_type": "markdown",
   "metadata": {},
   "source": [
    "### Using Both ASC and DESC\n",
    "#### The following SQL statement selects all customers from the \"Customers\" table, sorted ascending by the \"Country\" and descending by the \"CustomerName\" column:\n",
    "\n",
    "* Example\n",
    "```sql\n",
    "SELECT * FROM Customers\n",
    "ORDER BY Country ASC, CustomerName DESC;\n",
    "```"
   ]
  },
  {
   "cell_type": "code",
   "execution_count": null,
   "metadata": {},
   "outputs": [],
   "source": [
    "execute_sql(\"SELECT *\\\n",
    "             FROM data\\\n",
    "             ORDER BY id ASC, rgb DESC;\")"
   ]
  },
  {
   "cell_type": "markdown",
   "metadata": {},
   "source": [
    "## SQL AND Operator\n",
    "\n",
    "### The SQL AND Operator\n",
    "- The WHERE clause can contain one or many AND operators.\n",
    "- The AND operator is used to filter records based on more than one condition, like if you want to return all customers from Spain that starts with the letter 'G':\n",
    "\n",
    "### AND vs OR\n",
    "- The AND operator displays a record if all the conditions are TRUE.\n",
    "- The OR operator displays a record if any of the conditions are TRUE.\n",
    "\n",
    "### Combining AND and OR\n",
    "- You can combine the AND and OR operators."
   ]
  },
  {
   "cell_type": "code",
   "execution_count": null,
   "metadata": {},
   "outputs": [],
   "source": [
    "execute_sql_db(\"SELECT *\\\n",
    "FROM Customers \\\n",
    "WHERE Country = 'Spain' AND CustomerName LIKE 'G%';\", 'test2.db')"
   ]
  },
  {
   "cell_type": "code",
   "execution_count": null,
   "metadata": {},
   "outputs": [],
   "source": [
    "execute_sql_db(\"SELECT * \\\n",
    "FROM Customers \\\n",
    "WHERE Country = 'Germany' \\\n",
    "AND City = 'Berlin' \\\n",
    "AND PostalCode > 12000;\",\"test2.db\")"
   ]
  },
  {
   "cell_type": "code",
   "execution_count": null,
   "metadata": {},
   "outputs": [],
   "source": [
    "execute_sql_db(\"SELECT * \\\n",
    "               FROM Customers \\\n",
    "WHERE Country = 'Spain' AND (CustomerName LIKE 'G%' OR CustomerName LIKE 'R%');\\\n",
    "               \",\"test2.db\")"
   ]
  },
  {
   "cell_type": "code",
   "execution_count": null,
   "metadata": {},
   "outputs": [],
   "source": [
    "execute_sql_db(\n",
    "    \"\\\n",
    "    SELECT * \\\n",
    "    FROM Customers \\\n",
    "    WHERE Country = 'Spain' AND CustomerName LIKE 'G%' OR CustomerName LIKE 'R%';\\\n",
    "    \",\n",
    "    \"test2.db\"\n",
    ")"
   ]
  },
  {
   "cell_type": "markdown",
   "metadata": {},
   "source": [
    "## SQL OR Operator"
   ]
  },
  {
   "cell_type": "code",
   "execution_count": null,
   "metadata": {},
   "outputs": [],
   "source": [
    "execute_sql_db(\n",
    "    \"\"\"\n",
    "    SELECT *\n",
    "    FROM Customers\n",
    "    WHERE Country = 'Germany' OR Country = 'Spain';\n",
    "    \"\"\",\n",
    "    \"test2.db\"\n",
    ")"
   ]
  },
  {
   "cell_type": "code",
   "execution_count": null,
   "metadata": {},
   "outputs": [],
   "source": [
    "execute_sql_db(\n",
    "    \"\"\"\n",
    "    SELECT * FROM Customers\n",
    "    WHERE City = 'Berlin' OR CustomerName LIKE 'G%' OR Country = 'Norway';\n",
    "    \"\"\",\n",
    "    \"test2.db\"\n",
    ")"
   ]
  },
  {
   "cell_type": "code",
   "execution_count": null,
   "metadata": {},
   "outputs": [],
   "source": [
    "execute_sql_db(\n",
    "    \"\"\"\n",
    "    SELECT * FROM Customers\n",
    "    WHERE Country = 'Spain' AND (CustomerName LIKE 'G%' OR CustomerName LIKE 'R%');\n",
    "    \"\"\",\n",
    "    \"test2.db\"\n",
    ")"
   ]
  },
  {
   "cell_type": "code",
   "execution_count": null,
   "metadata": {},
   "outputs": [],
   "source": [
    "execute_sql_db(\n",
    "    \"\"\"\n",
    "    SELECT * FROM Customers\n",
    "    WHERE Country = 'Spain' AND CustomerName LIKE 'G%' OR CustomerName LIKE 'R%';\n",
    "    \"\"\",\n",
    "    \"test2.db\"\n",
    ") "
   ]
  },
  {
   "cell_type": "markdown",
   "metadata": {},
   "source": [
    "## SQL NOT Operator"
   ]
  },
  {
   "cell_type": "code",
   "execution_count": null,
   "metadata": {},
   "outputs": [],
   "source": [
    "execute_sql_db(\n",
    "    \"\"\"\n",
    "    SELECT * FROM Customers\n",
    "    WHERE NOT Country = 'Spain';\n",
    "    \"\"\",\n",
    "    \"test2.db\"\n",
    ")"
   ]
  },
  {
   "cell_type": "code",
   "execution_count": null,
   "metadata": {},
   "outputs": [],
   "source": [
    "execute_sql_db(\n",
    "    \"\"\"\n",
    "    SELECT * FROM Customers\n",
    "    WHERE CustomerName NOT LIKE 'A%';\n",
    "    \"\"\",\n",
    "    \"test2.db\"\n",
    ")"
   ]
  },
  {
   "cell_type": "code",
   "execution_count": null,
   "metadata": {},
   "outputs": [],
   "source": [
    "execute_sql_db(\n",
    "    \"\"\"\n",
    "    SELECT * FROM Customers\n",
    "    WHERE CustomerID NOT BETWEEN 10 AND 60;\n",
    "    \"\"\",\n",
    "    \"test2.db\"\n",
    ")"
   ]
  },
  {
   "cell_type": "code",
   "execution_count": null,
   "metadata": {},
   "outputs": [],
   "source": [
    "execute_sql_db(\n",
    "    \"\"\"\n",
    "    SELECT * FROM Customers\n",
    "    WHERE City NOT IN ('Paris', 'London');\n",
    "    \"\"\",\n",
    "    \"test2.db\"\n",
    ")"
   ]
  },
  {
   "cell_type": "code",
   "execution_count": null,
   "metadata": {},
   "outputs": [],
   "source": [
    "execute_sql_db(\n",
    "    \"\"\"\n",
    "    SELECT * FROM Customers\n",
    "    WHERE NOT CustomerID > 50;\n",
    "    \"\"\",\n",
    "    \"test2.db\"\n",
    ")"
   ]
  },
  {
   "cell_type": "code",
   "execution_count": null,
   "metadata": {},
   "outputs": [],
   "source": [
    "execute_sql_db(\n",
    "    \"\"\"\n",
    "    SELECT * FROM Customers\n",
    "    WHERE NOT CustomerId < 50;\n",
    "    \"\"\",\n",
    "    \"test2.db\"\n",
    ")"
   ]
  },
  {
   "cell_type": "markdown",
   "metadata": {},
   "source": [
    "## SQL INSERT INTO Statement"
   ]
  },
  {
   "cell_type": "code",
   "execution_count": null,
   "metadata": {},
   "outputs": [],
   "source": [
    "execute_sql_db(\n",
    "    \"\"\"\n",
    "    INSERT INTO Customers (CustomerName, City, Country)\n",
    "    VALUES ('Cardinal', 'Stavanger', 'Norway');\n",
    "    \"\"\",\n",
    "    \"test2.db\"\n",
    ")"
   ]
  },
  {
   "cell_type": "code",
   "execution_count": null,
   "metadata": {},
   "outputs": [],
   "source": [
    "execute_sql_db(\n",
    "    \"\"\"\n",
    "    INSERT INTO Customers (CustomerName, ContactName, Address, City, PostalCode, Country)\n",
    "    VALUES\n",
    "    ('Cardinal', 'Tom B. Erichsen', 'Skagen 21', 'Stavanger', '4006', 'Norway'),\n",
    "    ('Greasy Burger', 'Per Olsen', 'Gateveien 15', 'Sandnes', '4306', 'Norway'),\n",
    "    ('Tasty Tee', 'Finn Egan', 'Streetroad 19B', 'Liverpool', 'L1 0AA', 'UK');\n",
    "    \"\"\",\n",
    "    \"test2.db\"\n",
    ")"
   ]
  },
  {
   "cell_type": "markdown",
   "metadata": {},
   "source": [
    "## SQL NULL Values"
   ]
  },
  {
   "cell_type": "code",
   "execution_count": null,
   "metadata": {},
   "outputs": [],
   "source": [
    "execute_sql_db(\n",
    "    \"\"\"\n",
    "    SELECT CustomerName, ContactName, Address\n",
    "    FROM Customers\n",
    "    WHERE Address IS NULL;\n",
    "    \"\"\",\n",
    "    \"test2.db\"\n",
    ")"
   ]
  },
  {
   "cell_type": "code",
   "execution_count": null,
   "metadata": {},
   "outputs": [],
   "source": [
    "execute_sql_db(\n",
    "    \"\"\"\n",
    "    SELECT CustomerName, ContactName, Address\n",
    "    FROM Customers\n",
    "    WHERE Address IS NOT NULL;\n",
    "    \"\"\",\n",
    "    \"test2.db\"\n",
    ")"
   ]
  },
  {
   "cell_type": "markdown",
   "metadata": {},
   "source": [
    "## SQL UPDATE Statement"
   ]
  },
  {
   "cell_type": "code",
   "execution_count": null,
   "metadata": {},
   "outputs": [],
   "source": [
    "execute_sql_db(\n",
    "    \"\"\"\n",
    "    UPDATE Customers\n",
    "    SET ContactName = 'Alfred Schmidt', City= 'Frankfurt'\n",
    "    WHERE CustomerID = 1;\n",
    "    \"\"\",\n",
    "    \"test2.db\"\n",
    ")"
   ]
  },
  {
   "cell_type": "code",
   "execution_count": null,
   "metadata": {},
   "outputs": [],
   "source": [
    "execute_sql_db(\n",
    "    \"\"\"\n",
    "    UPDATE Customers\n",
    "    SET ContactName='Juan'\n",
    "    WHERE Country='Mexico';\n",
    "    \"\"\",\n",
    "    \"test2.db\"\n",
    ")"
   ]
  },
  {
   "cell_type": "code",
   "execution_count": null,
   "metadata": {},
   "outputs": [],
   "source": [
    "execute_sql_db(\n",
    "    \"\"\"\n",
    "    UPDATE Customers\n",
    "    SET ContactName='Juan';\n",
    "    \"\"\",\n",
    "    \"test2.db\"\n",
    ")"
   ]
  },
  {
   "cell_type": "markdown",
   "metadata": {},
   "source": [
    "## SQL DELETE Statement"
   ]
  },
  {
   "cell_type": "code",
   "execution_count": null,
   "metadata": {},
   "outputs": [],
   "source": [
    "execute_sql_db(\n",
    "    \"\"\"\n",
    "    DELETE FROM Customers WHERE CustomerName='Alfreds Futterkiste';\n",
    "    \"\"\",\n",
    "    \"test2.db\"\n",
    ")"
   ]
  },
  {
   "cell_type": "code",
   "execution_count": null,
   "metadata": {},
   "outputs": [],
   "source": [
    "execute_sql_db(\n",
    "    \"\"\"\n",
    "    DELETE FROM data;\n",
    "    \"\"\",\n",
    "    \"test.db\"\n",
    ")"
   ]
  },
  {
   "cell_type": "code",
   "execution_count": null,
   "metadata": {},
   "outputs": [],
   "source": [
    "execute_sql_db(\n",
    "    \"\"\"\n",
    "    DROP TABLE data;\n",
    "    \"\"\",\n",
    "    \"test.db\"\n",
    ")"
   ]
  },
  {
   "cell_type": "markdown",
   "metadata": {},
   "source": [
    "## SQL TOP, LIMIT, FETCH FIRST or ROWNUM Clause"
   ]
  },
  {
   "cell_type": "code",
   "execution_count": null,
   "metadata": {},
   "outputs": [],
   "source": [
    "execute_sql_db(\n",
    "    \"\"\"\n",
    "    SELECT * \n",
    "    FROM Customers\n",
    "    LIMIT 3;\n",
    "    \"\"\",\n",
    "    \"test2.db\"\n",
    ")"
   ]
  },
  {
   "cell_type": "code",
   "execution_count": null,
   "metadata": {},
   "outputs": [],
   "source": [
    "execute_sql_db(\n",
    "    \"\"\"\n",
    "    SELECT *\n",
    "    FROM Customers\n",
    "    LIMIT (SELECT COUNT(*) * 0.5 FROM Customers);\n",
    "    \"\"\",\n",
    "    \"test2.db\"\n",
    ")"
   ]
  },
  {
   "cell_type": "code",
   "execution_count": null,
   "metadata": {},
   "outputs": [],
   "source": [
    "execute_sql_db(\n",
    "    \"\"\"\n",
    "    SELECT * \n",
    "    FROM Customers\n",
    "    WHERE Country='Germany'\n",
    "    LIMIT 3;\n",
    "    \"\"\",\n",
    "    \"test2.db\"\n",
    ")"
   ]
  },
  {
   "cell_type": "code",
   "execution_count": null,
   "metadata": {},
   "outputs": [],
   "source": [
    "execute_sql_db(\n",
    "    \"\"\"\n",
    "    SELECT * \n",
    "    FROM Customers\n",
    "    ORDER BY CustomerName DESC\n",
    "    LIMIT 3;\n",
    "    \"\"\",\n",
    "    \"test2.db\"\n",
    ")"
   ]
  },
  {
   "cell_type": "markdown",
   "metadata": {},
   "source": [
    "# SQL Aggregate Functions"
   ]
  },
  {
   "cell_type": "markdown",
   "metadata": {},
   "source": [
    "## SQL MIN() and MAX() Functions"
   ]
  },
  {
   "cell_type": "code",
   "execution_count": null,
   "metadata": {},
   "outputs": [],
   "source": [
    "execute_sql_db(\n",
    "    \"\"\"\n",
    "    SELECT MIN(Price)\n",
    "    FROM Products;\n",
    "    \"\"\",\n",
    "    \"test2.db\"\n",
    ")"
   ]
  },
  {
   "cell_type": "code",
   "execution_count": null,
   "metadata": {},
   "outputs": [],
   "source": [
    "execute_sql_db(\n",
    "    \"\"\"\n",
    "    SELECT MAX(Price)\n",
    "    FROM Products;\n",
    "    \"\"\",\n",
    "    \"test2.db\"\n",
    ")"
   ]
  },
  {
   "cell_type": "code",
   "execution_count": null,
   "metadata": {},
   "outputs": [],
   "source": [
    "# 쿼리 결과 컬럼 이름을 지정해줄 수 있음\n",
    "execute_sql_db(\n",
    "    \"\"\"\n",
    "    SELECT MIN(Price) AS SmallestPrice\n",
    "    FROM Products;\n",
    "    \"\"\",\n",
    "    \"test2.db\"\n",
    ")"
   ]
  },
  {
   "cell_type": "code",
   "execution_count": null,
   "metadata": {},
   "outputs": [],
   "source": [
    "execute_sql_db(\n",
    "    \"\"\"\n",
    "    SELECT MIN(Price) AS SmallestPrice, CategoryID\n",
    "    FROM Products\n",
    "    GROUP BY CategoryID;\n",
    "    \"\"\",\n",
    "    \"test2.db\"\n",
    ")"
   ]
  },
  {
   "cell_type": "markdown",
   "metadata": {},
   "source": [
    "## SQL COUNT() Function"
   ]
  },
  {
   "cell_type": "code",
   "execution_count": null,
   "metadata": {},
   "outputs": [],
   "source": [
    "execute_sql_db(\n",
    "    \"\"\"\n",
    "    SELECT COUNT(*)\n",
    "    FROM Products;\n",
    "    \"\"\",\n",
    "    \"test2.db\"\n",
    ")"
   ]
  },
  {
   "cell_type": "code",
   "execution_count": null,
   "metadata": {},
   "outputs": [],
   "source": [
    "execute_sql_db(\n",
    "    \"\"\"\n",
    "    SELECT COUNT(ProductName)\n",
    "    FROM Products;\n",
    "    \"\"\",\n",
    "    \"test2.db\"\n",
    ")"
   ]
  },
  {
   "cell_type": "code",
   "execution_count": null,
   "metadata": {},
   "outputs": [],
   "source": [
    "execute_sql_db(\n",
    "    \"\"\"\n",
    "    SELECT COUNT(ProductID)\n",
    "    FROM Products\n",
    "    WHERE Price > 20;\n",
    "    \"\"\",\n",
    "    \"test2.db\"\n",
    ")"
   ]
  },
  {
   "cell_type": "code",
   "execution_count": null,
   "metadata": {},
   "outputs": [],
   "source": [
    "execute_sql_db(\n",
    "    \"\"\"\n",
    "    SELECT COUNT(DISTINCT Price)\n",
    "    FROM Products;\n",
    "    \"\"\",\n",
    "    \"test2.db\"\n",
    ")"
   ]
  },
  {
   "cell_type": "code",
   "execution_count": null,
   "metadata": {},
   "outputs": [],
   "source": [
    "execute_sql_db(\n",
    "    \"\"\"\n",
    "    SELECT COUNT(*) AS [Number of records]\n",
    "    FROM Products;\n",
    "    \"\"\",\n",
    "    \"test2.db\"\n",
    ")"
   ]
  },
  {
   "cell_type": "code",
   "execution_count": null,
   "metadata": {},
   "outputs": [],
   "source": [
    "execute_sql_db(\n",
    "    \"\"\"\n",
    "    SELECT COUNT(*) AS [Number of records], CategoryID\n",
    "    FROM Products\n",
    "    GROUP BY CategoryID;\n",
    "    \"\"\",\n",
    "    \"test2.db\"\n",
    ")"
   ]
  },
  {
   "cell_type": "markdown",
   "metadata": {},
   "source": [
    "## SQL SUM() Function"
   ]
  },
  {
   "cell_type": "code",
   "execution_count": null,
   "metadata": {},
   "outputs": [],
   "source": [
    "execute_sql_db(\n",
    "    \"\"\"\n",
    "    SELECT SUM(Quantity)\n",
    "    FROM OrderDetails;\n",
    "    \"\"\",\n",
    "    \"test2.db\"\n",
    ")"
   ]
  },
  {
   "cell_type": "code",
   "execution_count": null,
   "metadata": {},
   "outputs": [],
   "source": [
    "execute_sql_db(\n",
    "    \"\"\"\n",
    "    SELECT SUM(Quantity)\n",
    "    FROM OrderDetails\n",
    "    WHERE ProductId = 11;\n",
    "    \"\"\",\n",
    "    \"test2.db\"\n",
    ")"
   ]
  },
  {
   "cell_type": "code",
   "execution_count": null,
   "metadata": {},
   "outputs": [],
   "source": [
    "execute_sql_db(\n",
    "    \"\"\"\n",
    "    SELECT SUM(Quantity) AS total\n",
    "    FROM OrderDetails;\n",
    "    \"\"\",\n",
    "    \"test2.db\"\n",
    ")"
   ]
  },
  {
   "cell_type": "code",
   "execution_count": null,
   "metadata": {},
   "outputs": [],
   "source": [
    "execute_sql_db(\n",
    "    \"\"\"\n",
    "    SELECT OrderID, SUM(Quantity) AS [Total Quantity]\n",
    "    FROM OrderDetails\n",
    "    GROUP BY OrderID;\n",
    "    \"\"\",\n",
    "    \"test2.db\"\n",
    ")"
   ]
  },
  {
   "cell_type": "code",
   "execution_count": null,
   "metadata": {},
   "outputs": [],
   "source": [
    "execute_sql_db(\n",
    "    \"\"\"\n",
    "    SELECT SUM(Quantity * 10)\n",
    "    FROM OrderDetails;\n",
    "    \"\"\",\n",
    "    \"test2.db\"\n",
    ")"
   ]
  },
  {
   "cell_type": "code",
   "execution_count": null,
   "metadata": {},
   "outputs": [],
   "source": [
    "execute_sql_db(\n",
    "    \"\"\"\n",
    "    SELECT SUM(Price * Quantity)\n",
    "    FROM OrderDetails\n",
    "    LEFT JOIN Products ON OrderDetails.ProductID = Products.ProductID;\n",
    "    \"\"\",\n",
    "    \"test2.db\"\n",
    ")"
   ]
  },
  {
   "cell_type": "markdown",
   "metadata": {},
   "source": [
    "## SQL AVG() Function"
   ]
  },
  {
   "cell_type": "code",
   "execution_count": null,
   "metadata": {},
   "outputs": [],
   "source": [
    "execute_sql_db(\n",
    "    \"\"\"\n",
    "    SELECT AVG(Price)\n",
    "    FROM Products;\n",
    "    \"\"\",\n",
    "    \"test2.db\"\n",
    ")"
   ]
  },
  {
   "cell_type": "code",
   "execution_count": null,
   "metadata": {},
   "outputs": [],
   "source": [
    "execute_sql_db(\n",
    "    \"\"\"\n",
    "    SELECT AVG(Price)\n",
    "    FROM Products\n",
    "    WHERE CategoryID = 1;\n",
    "    \"\"\",\n",
    "    \"test2.db\"\n",
    ")"
   ]
  },
  {
   "cell_type": "code",
   "execution_count": null,
   "metadata": {},
   "outputs": [],
   "source": [
    "execute_sql_db(\n",
    "    \"\"\"\n",
    "    SELECT AVG(Price) AS [average price]\n",
    "    FROM Products;\n",
    "    \"\"\",\n",
    "    \"test2.db\"\n",
    ")"
   ]
  },
  {
   "cell_type": "code",
   "execution_count": null,
   "metadata": {},
   "outputs": [],
   "source": [
    "execute_sql_db(\n",
    "    \"\"\"\n",
    "    SELECT * FROM Products\n",
    "    WHERE price > (SELECT AVG(price) FROM Products);\n",
    "    \"\"\",\n",
    "    \"test2.db\"\n",
    ")"
   ]
  },
  {
   "cell_type": "code",
   "execution_count": null,
   "metadata": {},
   "outputs": [],
   "source": [
    "execute_sql_db(\n",
    "    \"\"\"\n",
    "    SELECT AVG(Price) AS AveragePrice, CategoryID\n",
    "    FROM Products\n",
    "    GROUP BY CategoryID;\n",
    "    \"\"\",\n",
    "    \"test2.db\"\n",
    ")"
   ]
  },
  {
   "cell_type": "markdown",
   "metadata": {},
   "source": [
    "## SQL LIKE Operator"
   ]
  },
  {
   "cell_type": "code",
   "execution_count": null,
   "metadata": {},
   "outputs": [],
   "source": [
    "execute_sql_db(\n",
    "    \"\"\"\n",
    "    SELECT * FROM Customers\n",
    "    WHERE CustomerName LIKE 'a%';\n",
    "    \"\"\",\n",
    "    \"test2.db\"\n",
    ")"
   ]
  },
  {
   "cell_type": "code",
   "execution_count": null,
   "metadata": {},
   "outputs": [],
   "source": [
    "execute_sql_db(\n",
    "    \"\"\"\n",
    "    SELECT * FROM Customers\n",
    "    WHERE city LIKE 'L_nd__';\n",
    "    \"\"\",\n",
    "    \"test2.db\"\n",
    ")"
   ]
  },
  {
   "cell_type": "code",
   "execution_count": null,
   "metadata": {},
   "outputs": [],
   "source": [
    "execute_sql_db(\n",
    "    \"\"\"\n",
    "    SELECT * FROM Customers\n",
    "    WHERE city LIKE '%L%';\n",
    "    \"\"\",\n",
    "    \"test2.db\"\n",
    ")"
   ]
  },
  {
   "cell_type": "code",
   "execution_count": null,
   "metadata": {},
   "outputs": [],
   "source": [
    "execute_sql_db(\n",
    "    \"\"\"\n",
    "    SELECT * FROM Customers\n",
    "    WHERE CustomerName LIKE 'La%';\n",
    "    \"\"\",\n",
    "    \"test2.db\"\n",
    ")"
   ]
  },
  {
   "cell_type": "code",
   "execution_count": null,
   "metadata": {},
   "outputs": [],
   "source": [
    "execute_sql_db(\n",
    "    \"\"\"\n",
    "    SELECT * FROM Customers\n",
    "    WHERE CustomerName LIKE 'a%' OR CustomerName LIKE 'b%';\n",
    "    \"\"\",\n",
    "    \"test2.db\"\n",
    ")"
   ]
  },
  {
   "cell_type": "code",
   "execution_count": null,
   "metadata": {},
   "outputs": [],
   "source": [
    "execute_sql_db(\n",
    "    \"\"\"\n",
    "    SELECT * FROM Customers\n",
    "    WHERE CustomerName LIKE '%a';\n",
    "    \"\"\",\n",
    "    \"test2.db\"\n",
    ")"
   ]
  },
  {
   "cell_type": "code",
   "execution_count": null,
   "metadata": {},
   "outputs": [],
   "source": [
    "execute_sql_db(\n",
    "    \"\"\"\n",
    "    SELECT * FROM Customers\n",
    "    WHERE CustomerName LIKE 'b%s';\n",
    "    \"\"\",\n",
    "    \"test2.db\"\n",
    ")"
   ]
  },
  {
   "cell_type": "code",
   "execution_count": null,
   "metadata": {},
   "outputs": [],
   "source": [
    "execute_sql_db(\n",
    "    \"\"\"\n",
    "    SELECT * FROM Customers\n",
    "    WHERE CustomerName LIKE '%or%';\n",
    "    \"\"\",\n",
    "    \"test2.db\"\n",
    ")"
   ]
  },
  {
   "cell_type": "code",
   "execution_count": null,
   "metadata": {},
   "outputs": [],
   "source": [
    "execute_sql_db(\n",
    "    \"\"\"\n",
    "    SELECT * FROM Customers\n",
    "    WHERE CustomerName LIKE 'a__%';\n",
    "    \"\"\",\n",
    "    \"test2.db\"\n",
    ")"
   ]
  },
  {
   "cell_type": "code",
   "execution_count": null,
   "metadata": {},
   "outputs": [],
   "source": [
    "execute_sql_db(\n",
    "    \"\"\"\n",
    "    \n",
    "    \"\"\",\n",
    "    \"test2.db\"\n",
    ")"
   ]
  },
  {
   "cell_type": "code",
   "execution_count": null,
   "metadata": {},
   "outputs": [],
   "source": [
    "execute_sql_db(\n",
    "    \"\"\"\n",
    "    SELECT * FROM Customers\n",
    "    WHERE CustomerName LIKE '_r%';\n",
    "    \"\"\",\n",
    "    \"test2.db\"\n",
    ")"
   ]
  },
  {
   "cell_type": "code",
   "execution_count": null,
   "metadata": {},
   "outputs": [],
   "source": [
    "execute_sql_db(\n",
    "    \"\"\"\n",
    "    SELECT * FROM Customers\n",
    "    WHERE Country LIKE 'Spain';\n",
    "    \"\"\",\n",
    "    \"test2.db\"\n",
    ")"
   ]
  },
  {
   "cell_type": "markdown",
   "metadata": {},
   "source": [
    "## SQL Wildcards"
   ]
  },
  {
   "cell_type": "code",
   "execution_count": null,
   "metadata": {},
   "outputs": [],
   "source": [
    "execute_sql_db(\n",
    "    \"\"\"\n",
    "    SELECT * FROM Customers\n",
    "    WHERE CustomerName LIKE 'a%';\n",
    "    \"\"\",\n",
    "    \"test2.db\"\n",
    ")"
   ]
  },
  {
   "cell_type": "code",
   "execution_count": null,
   "metadata": {},
   "outputs": [],
   "source": [
    "execute_sql_db(\n",
    "    \"\"\"\n",
    "    SELECT * FROM Customers\n",
    "    WHERE CustomerName LIKE '%mer%';\n",
    "    \"\"\",\n",
    "    \"test2.db\"\n",
    ")"
   ]
  },
  {
   "cell_type": "code",
   "execution_count": null,
   "metadata": {},
   "outputs": [],
   "source": [
    "execute_sql_db(\n",
    "    \"\"\"\n",
    "    SELECT * FROM Customers\n",
    "    WHERE City LIKE '_ondon';\n",
    "    \"\"\",\n",
    "    \"test2.db\"\n",
    ")"
   ]
  },
  {
   "cell_type": "code",
   "execution_count": null,
   "metadata": {},
   "outputs": [],
   "source": [
    "execute_sql_db(\n",
    "    \"\"\"\n",
    "    SELECT * FROM Customers\n",
    "    WHERE City LIKE 'L___on';\n",
    "    \"\"\",\n",
    "    \"test2.db\"\n",
    ")"
   ]
  },
  {
   "cell_type": "code",
   "execution_count": null,
   "metadata": {},
   "outputs": [],
   "source": [
    "execute_sql_db(\n",
    "    \"\"\"\n",
    "    SELECT * FROM Customers\n",
    "    WHERE CustomerName LIKE '[bsp]%';\n",
    "    \"\"\",\n",
    "    \"test2.db\"\n",
    ")"
   ]
  },
  {
   "cell_type": "code",
   "execution_count": null,
   "metadata": {},
   "outputs": [],
   "source": [
    "execute_sql_db(\n",
    "    \"\"\"\n",
    "    SELECT * FROM Customers\n",
    "    WHERE CustomerName LIKE '[a-f]%';    \n",
    "    \"\"\",\n",
    "    \"test2.db\"\n",
    ")"
   ]
  },
  {
   "cell_type": "code",
   "execution_count": null,
   "metadata": {},
   "outputs": [],
   "source": [
    "execute_sql_db(\n",
    "    \"\"\"\n",
    "    SELECT * FROM Customers\n",
    "    WHERE CustomerName LIKE 'a__%';\n",
    "    \"\"\",\n",
    "    \"test2.db\"\n",
    ")"
   ]
  },
  {
   "cell_type": "code",
   "execution_count": null,
   "metadata": {},
   "outputs": [],
   "source": [
    "execute_sql_db(\n",
    "    \"\"\"\n",
    "    SELECT * FROM Customers\n",
    "    WHERE CustomerName LIKE '_r%';\n",
    "    \"\"\",\n",
    "    \"test2.db\"\n",
    ")"
   ]
  },
  {
   "cell_type": "code",
   "execution_count": null,
   "metadata": {},
   "outputs": [],
   "source": [
    "execute_sql_db(\n",
    "    \"\"\"\n",
    "    SELECT * FROM Customers\n",
    "    WHERE Country LIKE 'Spain';\n",
    "    \"\"\",\n",
    "    \"test2.db\"\n",
    ")"
   ]
  },
  {
   "cell_type": "markdown",
   "metadata": {},
   "source": [
    "## SQL IN Operator"
   ]
  },
  {
   "cell_type": "code",
   "execution_count": null,
   "metadata": {},
   "outputs": [],
   "source": [
    "execute_sql_db(\n",
    "    \"\"\"\n",
    "    SELECT * FROM Customers\n",
    "    WHERE Country IN ('Germany', 'France', 'UK');\n",
    "    \"\"\",\n",
    "    \"test2.db\"\n",
    ")"
   ]
  },
  {
   "cell_type": "code",
   "execution_count": null,
   "metadata": {},
   "outputs": [],
   "source": [
    "execute_sql_db(\n",
    "    \"\"\"\n",
    "    SELECT * FROM Customers\n",
    "    WHERE Country NOT IN ('Germany', 'France', 'UK');\n",
    "    \"\"\",\n",
    "    \"test2.db\"\n",
    ")"
   ]
  },
  {
   "cell_type": "code",
   "execution_count": null,
   "metadata": {},
   "outputs": [],
   "source": [
    "execute_sql_db(\n",
    "    \"\"\"\n",
    "    SELECT * FROM Customers\n",
    "    WHERE CustomerID IN (SELECT CustomerID FROM Orders);\n",
    "    \"\"\",\n",
    "    \"test2.db\"\n",
    ")"
   ]
  },
  {
   "cell_type": "code",
   "execution_count": null,
   "metadata": {},
   "outputs": [],
   "source": [
    "execute_sql_db(\n",
    "    \"\"\"\n",
    "    SELECT * FROM Customers\n",
    "    WHERE CustomerID NOT IN (SELECT CustomerID FROM Orders);\n",
    "    \"\"\",\n",
    "    \"test2.db\"\n",
    ")"
   ]
  },
  {
   "cell_type": "markdown",
   "metadata": {},
   "source": [
    "## SQL BETWEEN Operator"
   ]
  },
  {
   "cell_type": "code",
   "execution_count": null,
   "metadata": {},
   "outputs": [],
   "source": [
    "execute_sql_db(\n",
    "    \"\"\"\n",
    "    SELECT * FROM Products\n",
    "    WHERE Price BETWEEN 10 AND 20;\n",
    "    \"\"\",\n",
    "    \"test2.db\"\n",
    ")"
   ]
  },
  {
   "cell_type": "code",
   "execution_count": null,
   "metadata": {},
   "outputs": [],
   "source": [
    "execute_sql_db(\n",
    "    \"\"\"\n",
    "    SELECT * FROM Products\n",
    "    WHERE Price NOT BETWEEN 10 AND 20;\n",
    "    \"\"\",\n",
    "    \"test2.db\"\n",
    ")"
   ]
  },
  {
   "cell_type": "code",
   "execution_count": null,
   "metadata": {},
   "outputs": [],
   "source": [
    "execute_sql_db(\n",
    "    \"\"\"\n",
    "    SELECT * FROM Products\n",
    "    WHERE Price BETWEEN 10 AND 20\n",
    "    AND CategoryID IN (1,2,3);\n",
    "    \"\"\",\n",
    "    \"test2.db\"\n",
    ")"
   ]
  },
  {
   "cell_type": "code",
   "execution_count": null,
   "metadata": {},
   "outputs": [],
   "source": [
    "execute_sql_db(\n",
    "    \"\"\"\n",
    "    SELECT * FROM Products\n",
    "    WHERE ProductName BETWEEN 'Carnarvon Tigers' AND 'Mozzarella di Giovanni'\n",
    "    ORDER BY ProductName;\n",
    "    \"\"\",\n",
    "    \"test2.db\"\n",
    ")"
   ]
  },
  {
   "cell_type": "code",
   "execution_count": null,
   "metadata": {},
   "outputs": [],
   "source": [
    "execute_sql_db(\n",
    "    \"\"\"\n",
    "    SELECT * FROM Products\n",
    "    WHERE ProductName BETWEEN \"Carnarvon Tigers\" AND \"Chef Anton's Cajun Seasoning\"\n",
    "    ORDER BY ProductName;\n",
    "    \"\"\",\n",
    "    \"test2.db\"\n",
    ")"
   ]
  },
  {
   "cell_type": "code",
   "execution_count": null,
   "metadata": {},
   "outputs": [],
   "source": [
    "execute_sql_db(\n",
    "    \"\"\"\n",
    "    SELECT * FROM Products\n",
    "    WHERE ProductName NOT BETWEEN 'Carnarvon Tigers' AND 'Mozzarella di Giovanni'\n",
    "    ORDER BY ProductName;\n",
    "    \"\"\",\n",
    "    \"test2.db\"\n",
    ")"
   ]
  },
  {
   "cell_type": "code",
   "execution_count": null,
   "metadata": {},
   "outputs": [],
   "source": [
    "# #07/01/1996# AND #07/31/1996# 은 안되나봄\n",
    "# execute_sql_db(\n",
    "#     \"\"\"\n",
    "#     SELECT * FROM Orders\n",
    "#     WHERE OrderDate BETWEEN #07/01/1996# AND #07/31/1996#;\n",
    "#     \"\"\",\n",
    "#     \"test2.db\"\n",
    "# )"
   ]
  },
  {
   "cell_type": "code",
   "execution_count": null,
   "metadata": {},
   "outputs": [],
   "source": [
    "execute_sql_db(\n",
    "    \"\"\"\n",
    "    SELECT * FROM Orders\n",
    "    WHERE OrderDate BETWEEN '1996-07-01' AND '1996-07-31';\n",
    "    \"\"\",\n",
    "    \"test2.db\"\n",
    ")"
   ]
  },
  {
   "cell_type": "code",
   "execution_count": null,
   "metadata": {},
   "outputs": [],
   "source": [
    "execute_sql_db(\n",
    "    \"\"\"\n",
    "    SELECT CustomerID AS ID\n",
    "    FROM Customers;\n",
    "    \"\"\",\n",
    "    \"test2.db\"\n",
    ")"
   ]
  },
  {
   "cell_type": "markdown",
   "metadata": {},
   "source": [
    "## SQL Aliases"
   ]
  },
  {
   "cell_type": "code",
   "execution_count": null,
   "metadata": {},
   "outputs": [],
   "source": [
    "execute_sql_db(\n",
    "    \"\"\"\n",
    "    SELECT CustomerID ID\n",
    "    FROM Customers;\n",
    "    \"\"\",\n",
    "    \"test2.db\"\n",
    ")"
   ]
  },
  {
   "cell_type": "code",
   "execution_count": null,
   "metadata": {},
   "outputs": [],
   "source": [
    "execute_sql_db(\n",
    "    \"\"\"\n",
    "    SELECT CustomerID AS ID, CustomerName AS Customer\n",
    "    FROM Customers;\n",
    "    \"\"\",\n",
    "    \"test2.db\"\n",
    ")"
   ]
  },
  {
   "cell_type": "code",
   "execution_count": null,
   "metadata": {},
   "outputs": [],
   "source": [
    "execute_sql_db(\n",
    "    \"\"\"\n",
    "    SELECT ProductName AS [My Great Products]\n",
    "    FROM Products;\n",
    "    \"\"\",\n",
    "    \"test2.db\"\n",
    ")"
   ]
  },
  {
   "cell_type": "code",
   "execution_count": null,
   "metadata": {},
   "outputs": [],
   "source": [
    "execute_sql_db(\n",
    "    \"\"\"\n",
    "    SELECT ProductName AS \"My Great Products\"\n",
    "    FROM Products;\n",
    "    \"\"\",\n",
    "    \"test2.db\"\n",
    ")"
   ]
  },
  {
   "cell_type": "code",
   "execution_count": null,
   "metadata": {},
   "outputs": [],
   "source": [
    "execute_sql_db(\n",
    "    \"\"\"\n",
    "    SELECT CustomerName, Address + ', ' + PostalCode + ' ' + City + ', ' + Country AS Address\n",
    "    FROM Customers;\n",
    "    \"\"\",\n",
    "    \"test2.db\"\n",
    ")"
   ]
  },
  {
   "cell_type": "code",
   "execution_count": null,
   "metadata": {},
   "outputs": [],
   "source": [
    "execute_sql_db(\n",
    "    \"\"\"\n",
    "    SELECT CustomerName, CONCAT(Address,', ',PostalCode,', ',City,', ',Country) AS Address\n",
    "    FROM Customers;\n",
    "    \"\"\",\n",
    "    \"test2.db\"\n",
    ")"
   ]
  },
  {
   "cell_type": "code",
   "execution_count": null,
   "metadata": {},
   "outputs": [],
   "source": [
    "execute_sql_db(\n",
    "    \"\"\"\n",
    "    SELECT CustomerName, (Address || ', ' || PostalCode || ' ' || City || ', ' || Country) AS Address\n",
    "    FROM Customers;    \n",
    "    \"\"\",\n",
    "    \"test2.db\"\n",
    ")"
   ]
  },
  {
   "cell_type": "code",
   "execution_count": null,
   "metadata": {},
   "outputs": [],
   "source": [
    "execute_sql_db(\n",
    "    \"\"\"\n",
    "    SELECT * FROM Customers AS Persons;\n",
    "    \"\"\",\n",
    "    \"test2.db\"\n",
    ")"
   ]
  },
  {
   "cell_type": "code",
   "execution_count": null,
   "metadata": {},
   "outputs": [],
   "source": [
    "execute_sql_db(\n",
    "    \"\"\"\n",
    "    SELECT o.OrderID, o.OrderDate, c.CustomerName\n",
    "    FROM Customers AS c, Orders AS o\n",
    "    WHERE c.CustomerName='Around the Horn' AND c.CustomerID=o.CustomerID;\n",
    "    \"\"\",\n",
    "    \"test2.db\"\n",
    ")"
   ]
  },
  {
   "cell_type": "code",
   "execution_count": null,
   "metadata": {},
   "outputs": [],
   "source": [
    "execute_sql_db(\n",
    "    \"\"\"\n",
    "    SELECT Orders.OrderID, Orders.OrderDate, Customers.CustomerName\n",
    "    FROM Customers, Orders\n",
    "    WHERE Customers.CustomerName='Around the Horn' AND Customers.CustomerID=Orders.CustomerID;\n",
    "    \"\"\",\n",
    "    \"test2.db\"\n",
    ")"
   ]
  },
  {
   "cell_type": "markdown",
   "metadata": {},
   "source": [
    "## SQL Joins"
   ]
  },
  {
   "cell_type": "code",
   "execution_count": null,
   "metadata": {},
   "outputs": [],
   "source": [
    "execute_sql_db(\n",
    "    \"\"\"\n",
    "    SELECT Orders.OrderID, Customers.CustomerName, Orders.OrderDate\n",
    "    FROM Orders\n",
    "    INNER JOIN Customers ON Orders.CustomerID=Customers.CustomerID;\n",
    "    \"\"\",\n",
    "    \"test2.db\"\n",
    ")"
   ]
  },
  {
   "cell_type": "markdown",
   "metadata": {},
   "source": [
    "## SQL INNER JOIN"
   ]
  },
  {
   "cell_type": "code",
   "execution_count": null,
   "metadata": {},
   "outputs": [],
   "source": [
    "execute_sql_db(\n",
    "    \"\"\"\n",
    "    SELECT ProductID, ProductName, CategoryName\n",
    "    FROM Products\n",
    "    INNER JOIN Categories ON Products.CategoryID = Categories.CategoryID;\n",
    "    \"\"\",\n",
    "    \"test2.db\"\n",
    ")"
   ]
  },
  {
   "cell_type": "code",
   "execution_count": null,
   "metadata": {},
   "outputs": [],
   "source": [
    "execute_sql_db(\n",
    "    \"\"\"\n",
    "    SELECT Products.ProductID, Products.ProductName, Categories.CategoryName\n",
    "    FROM Products\n",
    "    INNER JOIN Categories ON Products.CategoryID = Categories.CategoryID;\n",
    "    \"\"\",\n",
    "    \"test2.db\"\n",
    ")"
   ]
  },
  {
   "cell_type": "code",
   "execution_count": null,
   "metadata": {},
   "outputs": [],
   "source": [
    "execute_sql_db(\n",
    "    \"\"\"\n",
    "    SELECT Products.ProductID, Products.ProductName, Categories.CategoryName\n",
    "    FROM Products\n",
    "    JOIN Categories ON Products.CategoryID = Categories.CategoryID;\n",
    "    \"\"\",\n",
    "    \"test2.db\"\n",
    ")"
   ]
  },
  {
   "cell_type": "code",
   "execution_count": null,
   "metadata": {},
   "outputs": [],
   "source": [
    "execute_sql_db(\n",
    "    \"\"\"\n",
    "    SELECT Orders.OrderID, Customers.CustomerName, Shippers.ShipperName\n",
    "    FROM ((Orders\n",
    "    INNER JOIN Customers ON Orders.CustomerID = Customers.CustomerID)\n",
    "    INNER JOIN Shippers ON Orders.ShipperID = Shippers.ShipperID);\n",
    "    \"\"\",\n",
    "    \"test2.db\"\n",
    ")"
   ]
  },
  {
   "cell_type": "markdown",
   "metadata": {},
   "source": [
    "## SQL LEFT JOIN Keyword\n"
   ]
  },
  {
   "cell_type": "code",
   "execution_count": null,
   "metadata": {},
   "outputs": [],
   "source": [
    "execute_sql_db(\n",
    "    \"\"\"\n",
    "    SELECT Customers.CustomerName, Orders.OrderID\n",
    "    FROM Customers\n",
    "    LEFT JOIN Orders ON Customers.CustomerID = Orders.CustomerID\n",
    "    ORDER BY Customers.CustomerName;\n",
    "    \"\"\",\n",
    "    \"test2.db\"\n",
    ")"
   ]
  },
  {
   "cell_type": "markdown",
   "metadata": {},
   "source": [
    "## SQL RIGHT JOIN Keyword"
   ]
  },
  {
   "cell_type": "code",
   "execution_count": null,
   "metadata": {},
   "outputs": [],
   "source": [
    "execute_sql_db(\n",
    "    \"\"\"\n",
    "    SELECT Orders.OrderID, Employees.LastName, Employees.FirstName\n",
    "    FROM Orders\n",
    "    RIGHT JOIN Employees ON Orders.EmployeeID = Employees.EmployeeID\n",
    "    ORDER BY Orders.OrderID;   \n",
    "    \"\"\",\n",
    "    \"test2.db\"\n",
    ")"
   ]
  },
  {
   "cell_type": "markdown",
   "metadata": {},
   "source": [
    "## SQL FULL OUTER JOIN Keyword"
   ]
  },
  {
   "cell_type": "code",
   "execution_count": null,
   "metadata": {},
   "outputs": [],
   "source": [
    "execute_sql_db(\n",
    "    \"\"\"\n",
    "    SELECT Customers.CustomerName, Orders.OrderID\n",
    "    FROM Customers\n",
    "    FULL OUTER JOIN Orders ON Customers.CustomerID=Orders.CustomerID\n",
    "    ORDER BY Customers.CustomerName;\n",
    "    \"\"\",\n",
    "    \"test2.db\"\n",
    ")"
   ]
  },
  {
   "cell_type": "markdown",
   "metadata": {},
   "source": [
    "## SQL Self Join Example"
   ]
  },
  {
   "cell_type": "code",
   "execution_count": null,
   "metadata": {},
   "outputs": [],
   "source": [
    "execute_sql_db(\n",
    "    \"\"\"\n",
    "    SELECT A.CustomerName AS CustomerName1, B.CustomerName AS CustomerName2, A.City\n",
    "    FROM Customers A, Customers B\n",
    "    WHERE A.CustomerID <> B.CustomerID\n",
    "    AND A.City = B.City\n",
    "    ORDER BY A.City;\n",
    "    \"\"\",\n",
    "    \"test2.db\"\n",
    ")"
   ]
  },
  {
   "cell_type": "markdown",
   "metadata": {},
   "source": [
    "## SQL UNION Operator"
   ]
  },
  {
   "cell_type": "code",
   "execution_count": null,
   "metadata": {},
   "outputs": [],
   "source": [
    "execute_sql_db(\n",
    "    \"\"\"\n",
    "    SELECT City FROM Customers\n",
    "    UNION\n",
    "    SELECT City FROM Suppliers\n",
    "    ORDER BY City;\n",
    "    \"\"\",\n",
    "    \"test2.db\"\n",
    ")"
   ]
  },
  {
   "cell_type": "code",
   "execution_count": null,
   "metadata": {},
   "outputs": [],
   "source": [
    "execute_sql_db(\n",
    "    \"\"\"\n",
    "    SELECT City FROM Customers\n",
    "    UNION ALL\n",
    "    SELECT City FROM Suppliers\n",
    "    ORDER BY City;\n",
    "    \"\"\",\n",
    "    \"test2.db\"\n",
    ")"
   ]
  },
  {
   "cell_type": "code",
   "execution_count": null,
   "metadata": {},
   "outputs": [],
   "source": [
    "execute_sql_db(\n",
    "    \"\"\"\n",
    "    SELECT City, Country FROM Customers\n",
    "    WHERE Country='Germany'\n",
    "    UNION\n",
    "    SELECT City, Country FROM Suppliers\n",
    "    WHERE Country='Germany'\n",
    "    ORDER BY City;\n",
    "    \"\"\",\n",
    "    \"test2.db\"\n",
    ")"
   ]
  },
  {
   "cell_type": "code",
   "execution_count": null,
   "metadata": {},
   "outputs": [],
   "source": [
    "execute_sql_db(\n",
    "    \"\"\"\n",
    "    SELECT City, Country FROM Customers\n",
    "    WHERE Country='Germany'\n",
    "    UNION ALL\n",
    "    SELECT City, Country FROM Suppliers\n",
    "    WHERE Country='Germany'\n",
    "    ORDER BY City;\n",
    "    \"\"\",\n",
    "    \"test2.db\"\n",
    ")"
   ]
  },
  {
   "cell_type": "code",
   "execution_count": null,
   "metadata": {},
   "outputs": [],
   "source": [
    "execute_sql_db(\n",
    "    \"\"\"\n",
    "    SELECT 'Customer' AS Type, ContactName, City, Country\n",
    "    FROM Customers\n",
    "    UNION\n",
    "    SELECT 'Supplier', ContactName, City, Country\n",
    "    FROM Suppliers;\n",
    "    \"\"\",\n",
    "    \"test2.db\"\n",
    ")"
   ]
  },
  {
   "cell_type": "markdown",
   "metadata": {},
   "source": [
    "## SQL GROUP BY Statement"
   ]
  },
  {
   "cell_type": "code",
   "execution_count": null,
   "metadata": {},
   "outputs": [],
   "source": [
    "execute_sql_db(\n",
    "    \"\"\"\n",
    "    SELECT COUNT(CustomerID), Country\n",
    "    FROM Customers\n",
    "    GROUP BY Country;\n",
    "    \"\"\",\n",
    "    \"test2.db\"\n",
    ")"
   ]
  },
  {
   "cell_type": "code",
   "execution_count": null,
   "metadata": {},
   "outputs": [],
   "source": [
    "execute_sql_db(\n",
    "    \"\"\"\n",
    "    SELECT COUNT(CustomerID), Country\n",
    "    FROM Customers\n",
    "    GROUP BY Country\n",
    "    ORDER BY COUNT(CustomerID) DESC;\n",
    "    \"\"\",\n",
    "    \"test2.db\"\n",
    ")"
   ]
  },
  {
   "cell_type": "code",
   "execution_count": null,
   "metadata": {},
   "outputs": [],
   "source": [
    "execute_sql_db(\n",
    "    \"\"\"\n",
    "    SELECT Shippers.ShipperName, COUNT(Orders.OrderID) AS NumberOfOrders FROM Orders\n",
    "    LEFT JOIN Shippers ON Orders.ShipperID = Shippers.ShipperID\n",
    "    GROUP BY ShipperName;\n",
    "    \"\"\",\n",
    "    \"test2.db\"\n",
    ")"
   ]
  },
  {
   "cell_type": "markdown",
   "metadata": {},
   "source": [
    "## SQL HAVING Clause"
   ]
  },
  {
   "cell_type": "code",
   "execution_count": null,
   "metadata": {},
   "outputs": [],
   "source": [
    "execute_sql_db(\n",
    "    \"\"\"\n",
    "    SELECT COUNT(CustomerID), Country\n",
    "    FROM Customers\n",
    "    GROUP BY Country\n",
    "    HAVING COUNT(CustomerID) > 5;\n",
    "    \"\"\",\n",
    "    \"test2.db\"\n",
    ")"
   ]
  },
  {
   "cell_type": "code",
   "execution_count": null,
   "metadata": {},
   "outputs": [],
   "source": [
    "execute_sql_db(\n",
    "    \"\"\"\n",
    "    SELECT COUNT(CustomerID), Country\n",
    "    FROM Customers\n",
    "    GROUP BY Country\n",
    "    HAVING COUNT(CustomerID) > 5\n",
    "    ORDER BY COUNT(CustomerID) DESC;\n",
    "    \"\"\",\n",
    "    \"test2.db\"\n",
    ")"
   ]
  },
  {
   "cell_type": "code",
   "execution_count": null,
   "metadata": {},
   "outputs": [],
   "source": [
    "execute_sql_db(\n",
    "    \"\"\"\n",
    "    SELECT Employees.LastName, COUNT(Orders.OrderID) AS NumberOfOrders\n",
    "    FROM (Orders\n",
    "    INNER JOIN Employees ON Orders.EmployeeID = Employees.EmployeeID)\n",
    "    GROUP BY LastName\n",
    "    HAVING COUNT(Orders.OrderID) > 10;\n",
    "    \"\"\",\n",
    "    \"test2.db\"\n",
    ")"
   ]
  },
  {
   "cell_type": "code",
   "execution_count": null,
   "metadata": {},
   "outputs": [],
   "source": [
    "execute_sql_db(\n",
    "    \"\"\"\n",
    "    SELECT Employees.LastName, COUNT(Orders.OrderID) AS NumberOfOrders\n",
    "    FROM Orders\n",
    "    INNER JOIN Employees ON Orders.EmployeeID = Employees.EmployeeID\n",
    "    WHERE LastName = 'Davolio' OR LastName = 'Fuller'\n",
    "    GROUP BY LastName\n",
    "    HAVING COUNT(Orders.OrderID) > 25;\n",
    "    \"\"\",\n",
    "    \"test2.db\"\n",
    ")"
   ]
  },
  {
   "cell_type": "markdown",
   "metadata": {},
   "source": [
    "## SQL EXISTS Operator"
   ]
  },
  {
   "cell_type": "code",
   "execution_count": null,
   "metadata": {},
   "outputs": [],
   "source": [
    "execute_sql_db(\n",
    "    \"\"\"\n",
    "    SELECT SupplierName\n",
    "    FROM Suppliers\n",
    "    WHERE EXISTS (SELECT ProductName FROM Products WHERE Products.SupplierID = Suppliers.supplierID AND Price < 20);\n",
    "    \"\"\",\n",
    "    \"test2.db\"\n",
    ")"
   ]
  },
  {
   "cell_type": "code",
   "execution_count": null,
   "metadata": {},
   "outputs": [],
   "source": [
    "execute_sql_db(\n",
    "    \"\"\"\n",
    "    SELECT SupplierName\n",
    "    FROM Suppliers\n",
    "    WHERE EXISTS (SELECT ProductName FROM Products WHERE Products.SupplierID = Suppliers.supplierID AND Price = 22);\n",
    "    \"\"\",\n",
    "    \"test2.db\"\n",
    ")"
   ]
  },
  {
   "cell_type": "markdown",
   "metadata": {},
   "source": [
    "## SQL ANY and ALL Operators\n",
    "### ANY 는 SQLite 에서 지원하지 않는다고 합니다"
   ]
  },
  {
   "cell_type": "code",
   "execution_count": null,
   "metadata": {},
   "outputs": [],
   "source": [
    "execute_sql_db(\n",
    "    \"\"\"\n",
    "    SELECT ProductName\n",
    "    FROM Products\n",
    "    WHERE ProductID = ANY\n",
    "        (SELECT ProductID\n",
    "        FROM OrderDetails\n",
    "        WHERE Quantity = 10);\n",
    "    \"\"\",\n",
    "    \"test2.db\"\n",
    ")"
   ]
  },
  {
   "cell_type": "code",
   "execution_count": null,
   "metadata": {},
   "outputs": [],
   "source": [
    "execute_sql_db(\n",
    "    \"\"\"\n",
    "    SELECT ProductName\n",
    "    FROM Products\n",
    "    WHERE ProductID = ANY\n",
    "        (SELECT ProductID\n",
    "        FROM OrderDetails\n",
    "        WHERE Quantity > 99);\n",
    "    \"\"\",\n",
    "    \"test2.db\"\n",
    ")"
   ]
  },
  {
   "cell_type": "code",
   "execution_count": null,
   "metadata": {},
   "outputs": [],
   "source": [
    "execute_sql_db(\n",
    "    \"\"\"\n",
    "    SELECT ProductName\n",
    "    FROM Products\n",
    "    WHERE ProductID = ANY\n",
    "        (SELECT ProductID\n",
    "        FROM OrderDetails\n",
    "        WHERE Quantity > 1000);\n",
    "    \"\"\",\n",
    "    \"test2.db\"\n",
    ")"
   ]
  },
  {
   "cell_type": "code",
   "execution_count": null,
   "metadata": {},
   "outputs": [],
   "source": [
    "execute_sql_db(\n",
    "    \"\"\"\n",
    "    SELECT ALL ProductName\n",
    "    FROM Products\n",
    "    WHERE TRUE;\n",
    "    \"\"\",\n",
    "    \"test2.db\"\n",
    ")"
   ]
  },
  {
   "cell_type": "code",
   "execution_count": null,
   "metadata": {},
   "outputs": [],
   "source": [
    "# execute_sql_db(\n",
    "#     \"\"\"\n",
    "#     SELECT ProductName\n",
    "#     FROM Products\n",
    "#     WHERE ProductID = ALL\n",
    "#         (SELECT ProductID\n",
    "#         FROM OrderDetails\n",
    "#         WHERE Quantity = 10);\n",
    "#     \"\"\",\n",
    "#     \"test2.db\"\n",
    "# )\n",
    "\n",
    "execute_sql_db(\n",
    "    \"\"\"\n",
    "    SELECT ProductName\n",
    "    FROM Products\n",
    "    WHERE NOT EXISTS (\n",
    "        SELECT ProductID\n",
    "        FROM OrderDetails\n",
    "        WHERE Quantity = 10\n",
    "        AND ProductID NOT IN (SELECT ProductID FROM OrderDetails WHERE OrderDetails.ProductID = Products.ProductID));\n",
    "    \"\"\",\n",
    "    \"test2.db\"\n",
    ")\n",
    "\n",
    "# of course FALSE!!"
   ]
  },
  {
   "cell_type": "markdown",
   "metadata": {},
   "source": [
    "## SQL SELECT INTO Statement\n",
    "## The SQL INSERT INTO SELECT Statement"
   ]
  },
  {
   "cell_type": "code",
   "execution_count": null,
   "metadata": {},
   "outputs": [],
   "source": [
    "execute_sql_db(\n",
    "    \"\"\"\n",
    "    INSERT INTO Customers (CustomerName, City, Country)\n",
    "    SELECT SupplierName, City, Country FROM Suppliers;\n",
    "    \"\"\",\n",
    "    \"test2.db\"\n",
    ")"
   ]
  },
  {
   "cell_type": "code",
   "execution_count": null,
   "metadata": {},
   "outputs": [],
   "source": [
    "execute_sql_db(\n",
    "    \"\"\"\n",
    "    INSERT INTO Customers (CustomerName, ContactName, Address, City, PostalCode, Country)\n",
    "    SELECT SupplierName, ContactName, Address, City, PostalCode, Country FROM Suppliers;\n",
    "    \"\"\",\n",
    "    \"test2.db\"\n",
    ")"
   ]
  },
  {
   "cell_type": "code",
   "execution_count": null,
   "metadata": {},
   "outputs": [],
   "source": [
    "execute_sql_db(\n",
    "    \"\"\"\n",
    "    INSERT INTO Customers (CustomerName, City, Country)\n",
    "    SELECT SupplierName, City, Country FROM Suppliers\n",
    "    WHERE Country='Germany';\n",
    "    \"\"\",\n",
    "    \"test2.db\"\n",
    ")"
   ]
  },
  {
   "cell_type": "markdown",
   "metadata": {},
   "source": [
    "## SQL CASE Expression"
   ]
  },
  {
   "cell_type": "code",
   "execution_count": null,
   "metadata": {},
   "outputs": [],
   "source": [
    "execute_sql_db(\n",
    "    \"\"\"\n",
    "    SELECT OrderID, Quantity,\n",
    "    CASE\n",
    "        WHEN Quantity > 30 THEN 'The quantity is greater than 30'\n",
    "        WHEN Quantity = 30 THEN 'The quantity is 30'\n",
    "        ELSE 'The quantity is under 30'\n",
    "    END AS QuantityText\n",
    "    FROM OrderDetails;\n",
    "    \"\"\",\n",
    "    \"test2.db\"\n",
    ")"
   ]
  },
  {
   "cell_type": "code",
   "execution_count": null,
   "metadata": {},
   "outputs": [],
   "source": [
    "execute_sql_db(\n",
    "    \"\"\"\n",
    "    SELECT CustomerName, City, Country\n",
    "    FROM Customers\n",
    "    ORDER BY\n",
    "    (CASE\n",
    "        WHEN City IS NULL THEN Country\n",
    "        ELSE City\n",
    "    END);\n",
    "    \"\"\",\n",
    "    \"test2.db\"\n",
    ")"
   ]
  },
  {
   "cell_type": "markdown",
   "metadata": {},
   "source": [
    "## SQL Stored Procedures for SQL Server"
   ]
  },
  {
   "cell_type": "code",
   "execution_count": null,
   "metadata": {},
   "outputs": [],
   "source": [
    "# SQLite 는 PROCEDURE 를 지원하이 않습니다.\n",
    "execute_sql_db(\n",
    "    \"\"\"\n",
    "    CREATE PROCEDURE SelectAllCustomers\n",
    "    AS\n",
    "    SELECT * FROM Customers\n",
    "    GO;\n",
    "    \"\"\",\n",
    "    \"test2.db\"\n",
    ")"
   ]
  },
  {
   "cell_type": "code",
   "execution_count": null,
   "metadata": {},
   "outputs": [],
   "source": [
    "# SQLite 는 PROCEDURE 를 지원하이 않습니다.\n",
    "execute_sql_db(\n",
    "    \"\"\"\n",
    "    EXEC SelectAllCustomers;\n",
    "    \"\"\",\n",
    "    \"test2.db\"\n",
    ")"
   ]
  },
  {
   "cell_type": "code",
   "execution_count": null,
   "metadata": {},
   "outputs": [],
   "source": [
    "# SQLite 는 PROCEDURE 를 지원하이 않습니다.\n",
    "execute_sql_db(\n",
    "    \"\"\"\n",
    "    CREATE PROCEDURE SelectAllCustomers @City nvarchar(30)\n",
    "    AS\n",
    "    SELECT * FROM Customers WHERE City = @City\n",
    "    GO;\n",
    "    \"\"\",\n",
    "    \"test2.db\"\n",
    ")"
   ]
  },
  {
   "cell_type": "code",
   "execution_count": null,
   "metadata": {},
   "outputs": [],
   "source": [
    "# SQLite 는 PROCEDURE 를 지원하이 않습니다.\n",
    "execute_sql_db(\n",
    "    \"\"\"\n",
    "    EXEC SelectAllCustomers @City = 'London';\n",
    "    \"\"\",\n",
    "    \"test2.db\"\n",
    ")"
   ]
  },
  {
   "cell_type": "code",
   "execution_count": null,
   "metadata": {},
   "outputs": [],
   "source": [
    "# SQLite 는 PROCEDURE 를 지원하이 않습니다.\n",
    "execute_sql_db(\n",
    "    \"\"\"\n",
    "    CREATE PROCEDURE SelectAllCustomers @City nvarchar(30), @PostalCode nvarchar(10)\n",
    "    AS\n",
    "    SELECT * FROM Customers WHERE City = @City AND PostalCode = @PostalCode\n",
    "    GO;\n",
    "    \"\"\",\n",
    "    \"test2.db\"\n",
    ")"
   ]
  },
  {
   "cell_type": "code",
   "execution_count": null,
   "metadata": {},
   "outputs": [],
   "source": [
    "# SQLite 는 PROCEDURE 를 지원하이 않습니다.\n",
    "execute_sql_db(\n",
    "    \"\"\"\n",
    "    EXEC SelectAllCustomers @City = 'London', @PostalCode = 'WA1 1DP';\n",
    "    \"\"\",\n",
    "    \"test2.db\"\n",
    ")"
   ]
  },
  {
   "cell_type": "markdown",
   "metadata": {},
   "source": [
    "## SQL Comments"
   ]
  },
  {
   "cell_type": "code",
   "execution_count": null,
   "metadata": {},
   "outputs": [],
   "source": [
    "execute_sql_db(\n",
    "    \"\"\"\n",
    "    -- Select all:\n",
    "    SELECT * FROM Customers;\n",
    "    \"\"\",\n",
    "    \"test2.db\"\n",
    ")"
   ]
  },
  {
   "cell_type": "code",
   "execution_count": null,
   "metadata": {},
   "outputs": [],
   "source": [
    "execute_sql_db(\n",
    "    \"\"\"\n",
    "    SELECT * FROM Customers -- WHERE City='Berlin';\n",
    "    \"\"\",\n",
    "    \"test2.db\"\n",
    ")"
   ]
  },
  {
   "cell_type": "code",
   "execution_count": null,
   "metadata": {},
   "outputs": [],
   "source": [
    "execute_sql_db(\n",
    "    \"\"\"\n",
    "    -- SELECT * FROM Customers;\n",
    "    SELECT * FROM Products;\n",
    "    \"\"\",\n",
    "    \"test2.db\"\n",
    ")"
   ]
  },
  {
   "cell_type": "code",
   "execution_count": null,
   "metadata": {},
   "outputs": [],
   "source": [
    "execute_sql_db(\n",
    "    \"\"\"\n",
    "    /*Select all the columns\n",
    "    of all the records\n",
    "    in the Customers table:*/\n",
    "    SELECT * FROM Customers;\n",
    "    \"\"\",\n",
    "    \"test2.db\"\n",
    ")"
   ]
  },
  {
   "cell_type": "code",
   "execution_count": null,
   "metadata": {},
   "outputs": [],
   "source": [
    "execute_sql_db(\n",
    "    \"\"\"\n",
    "    /*SELECT * FROM Customers;\n",
    "    SELECT * FROM Products;\n",
    "    SELECT * FROM Orders;\n",
    "    SELECT * FROM Categories;*/\n",
    "    SELECT * FROM Suppliers;    \n",
    "    \"\"\",\n",
    "    \"test2.db\"\n",
    ")"
   ]
  },
  {
   "cell_type": "code",
   "execution_count": null,
   "metadata": {},
   "outputs": [],
   "source": [
    "execute_sql_db(\n",
    "    \"\"\"\n",
    "    SELECT CustomerName, /*City,*/ Country FROM Customers;\n",
    "    \"\"\",\n",
    "    \"test2.db\"\n",
    ")"
   ]
  },
  {
   "cell_type": "code",
   "execution_count": null,
   "metadata": {},
   "outputs": [],
   "source": [
    "execute_sql_db(\n",
    "    \"\"\"\n",
    "    SELECT * FROM Customers WHERE (CustomerName LIKE 'L%'\n",
    "    OR CustomerName LIKE 'R%' /*OR CustomerName LIKE 'S%'\n",
    "    OR CustomerName LIKE 'T%'*/ OR CustomerName LIKE 'W%')\n",
    "    AND Country='USA'\n",
    "    ORDER BY CustomerName;\n",
    "    \"\"\",\n",
    "    \"test2.db\"\n",
    ")"
   ]
  },
  {
   "cell_type": "markdown",
   "metadata": {},
   "source": [
    "## SQL Operators"
   ]
  },
  {
   "cell_type": "code",
   "execution_count": null,
   "metadata": {},
   "outputs": [],
   "source": [
    "execute_sql_db(\n",
    "    \"\"\"\n",
    "    SELECT 30 + 20;\n",
    "    \"\"\",\n",
    "    \"test2.db\"\n",
    ")"
   ]
  },
  {
   "cell_type": "code",
   "execution_count": null,
   "metadata": {},
   "outputs": [],
   "source": [
    "execute_sql_db(\n",
    "    \"\"\"\n",
    "    SELECT 30 - 20;\n",
    "    \"\"\",\n",
    "    \"test2.db\"\n",
    ")"
   ]
  },
  {
   "cell_type": "code",
   "execution_count": null,
   "metadata": {},
   "outputs": [],
   "source": [
    "execute_sql_db(\n",
    "    \"\"\"\n",
    "    SELECT 30 * 20;\n",
    "    \"\"\",\n",
    "    \"test2.db\"\n",
    ")"
   ]
  },
  {
   "cell_type": "code",
   "execution_count": null,
   "metadata": {},
   "outputs": [],
   "source": [
    "execute_sql_db(\n",
    "    \"\"\"\n",
    "    SELECT 30 / 10;\n",
    "    \"\"\",\n",
    "    \"test2.db\"\n",
    ")"
   ]
  },
  {
   "cell_type": "code",
   "execution_count": null,
   "metadata": {},
   "outputs": [],
   "source": [
    "execute_sql_db(\n",
    "    \"\"\"\n",
    "    SELECT 17 % 5;\n",
    "    \"\"\",\n",
    "    \"test2.db\"\n",
    ")"
   ]
  },
  {
   "cell_type": "code",
   "execution_count": null,
   "metadata": {},
   "outputs": [],
   "source": [
    "execute_sql_db(\n",
    "    \"\"\"\n",
    "    SELECT 17 & 5;\n",
    "    \"\"\",\n",
    "    \"test2.db\"\n",
    ")"
   ]
  },
  {
   "cell_type": "code",
   "execution_count": null,
   "metadata": {},
   "outputs": [],
   "source": [
    "execute_sql_db(\n",
    "    \"\"\"\n",
    "    SELECT 17 | 5;\n",
    "    \"\"\",\n",
    "    \"test2.db\"\n",
    ")"
   ]
  },
  {
   "cell_type": "code",
   "execution_count": null,
   "metadata": {},
   "outputs": [],
   "source": [
    "# SQLite 에서는 ^(xor)연산이 지원되지 않습니다.\n",
    "execute_sql_db(\n",
    "    \"\"\"\n",
    "    SELECT 17 ^ 5;\n",
    "    \"\"\",\n",
    "    \"test2.db\"\n",
    ")"
   ]
  },
  {
   "cell_type": "code",
   "execution_count": null,
   "metadata": {},
   "outputs": [],
   "source": [
    "execute_sql_db(\n",
    "    \"\"\"\n",
    "    SELECT * FROM Products\n",
    "    WHERE Price = 18;\n",
    "    \"\"\",\n",
    "    \"test2.db\"\n",
    ")"
   ]
  },
  {
   "cell_type": "code",
   "execution_count": null,
   "metadata": {},
   "outputs": [],
   "source": [
    "execute_sql_db(\n",
    "    \"\"\"\n",
    "    SELECT * FROM Products\n",
    "    WHERE Price > 30;\n",
    "    \"\"\",\n",
    "    \"test2.db\"\n",
    ")"
   ]
  },
  {
   "cell_type": "code",
   "execution_count": null,
   "metadata": {},
   "outputs": [],
   "source": [
    "execute_sql_db(\n",
    "    \"\"\"\n",
    "    SELECT * FROM Products\n",
    "    WHERE Price < 30;\n",
    "    \"\"\",\n",
    "    \"test2.db\"\n",
    ")"
   ]
  },
  {
   "cell_type": "code",
   "execution_count": null,
   "metadata": {},
   "outputs": [],
   "source": [
    "execute_sql_db(\n",
    "    \"\"\"\n",
    "    SELECT * FROM Products\n",
    "    WHERE Price >= 30;\n",
    "    \"\"\",\n",
    "    \"test2.db\"\n",
    ")"
   ]
  },
  {
   "cell_type": "code",
   "execution_count": null,
   "metadata": {},
   "outputs": [],
   "source": [
    "execute_sql_db(\n",
    "    \"\"\"\n",
    "    SELECT * FROM Products\n",
    "    WHERE Price <= 30;\n",
    "    \"\"\",\n",
    "    \"test2.db\"\n",
    ")"
   ]
  },
  {
   "cell_type": "code",
   "execution_count": null,
   "metadata": {},
   "outputs": [],
   "source": [
    "execute_sql_db(\n",
    "    \"\"\"\n",
    "    SELECT * FROM Products\n",
    "    WHERE Price <> 18;\n",
    "    \"\"\",\n",
    "    \"test2.db\"\n",
    ")"
   ]
  },
  {
   "cell_type": "code",
   "execution_count": null,
   "metadata": {},
   "outputs": [],
   "source": [
    "# sqlite 에서 ALL 연산은 지원되지 않습니다.\n",
    "execute_sql_db(\n",
    "    \"\"\"\n",
    "    SELECT ProductName \n",
    "    FROM Products\n",
    "    WHERE ProductID = ALL (SELECT ProductID FROM OrderDetails WHERE Quantity = 10);\n",
    "    \"\"\",\n",
    "    \"test2.db\"\n",
    ")"
   ]
  },
  {
   "cell_type": "code",
   "execution_count": null,
   "metadata": {},
   "outputs": [],
   "source": [
    "execute_sql_db(\n",
    "    \"\"\"\n",
    "    SELECT * FROM Customers\n",
    "    WHERE City = \"London\" AND Country = \"UK\";\n",
    "    \"\"\",\n",
    "    \"test2.db\"\n",
    ")"
   ]
  },
  {
   "cell_type": "code",
   "execution_count": null,
   "metadata": {},
   "outputs": [],
   "source": [
    "# sqlite 에서 ANY 연산은 지원되지 않습니다.\n",
    "execute_sql_db(\n",
    "    \"\"\"\n",
    "    SELECT * FROM Products\n",
    "    WHERE Price > ANY (SELECT Price FROM Products WHERE Price > 50);\n",
    "    \"\"\",\n",
    "    \"test2.db\"\n",
    ")"
   ]
  },
  {
   "cell_type": "code",
   "execution_count": null,
   "metadata": {},
   "outputs": [],
   "source": [
    "execute_sql_db(\n",
    "    \"\"\"\n",
    "    SELECT * FROM Products\n",
    "    WHERE Price BETWEEN 50 AND 60;\n",
    "    \"\"\",\n",
    "    \"test2.db\"\n",
    ")"
   ]
  },
  {
   "cell_type": "code",
   "execution_count": null,
   "metadata": {},
   "outputs": [],
   "source": [
    "execute_sql_db(\n",
    "    \"\"\"\n",
    "    SELECT SupplierName\n",
    "    FROM Suppliers\n",
    "    WHERE EXISTS (SELECT ProductName FROM Products WHERE Products.SupplierID = Suppliers.supplierID AND Price < 20);\n",
    "    \"\"\",\n",
    "    \"test2.db\"\n",
    ")"
   ]
  },
  {
   "cell_type": "code",
   "execution_count": null,
   "metadata": {},
   "outputs": [],
   "source": [
    "execute_sql_db(\n",
    "    \"\"\"\n",
    "    SELECT * FROM Customers\n",
    "    WHERE City IN ('Paris','London');\n",
    "    \"\"\",\n",
    "    \"test2.db\"\n",
    ")"
   ]
  },
  {
   "cell_type": "code",
   "execution_count": null,
   "metadata": {},
   "outputs": [],
   "source": [
    "execute_sql_db(\n",
    "    \"\"\"\n",
    "    SELECT * FROM Customers\n",
    "    WHERE City LIKE 's%';\n",
    "    \"\"\",\n",
    "    \"test2.db\"\n",
    ")"
   ]
  },
  {
   "cell_type": "code",
   "execution_count": null,
   "metadata": {},
   "outputs": [],
   "source": [
    "execute_sql_db(\n",
    "    \"\"\"\n",
    "    SELECT * FROM Customers\n",
    "    WHERE City NOT LIKE 's%';\n",
    "    \"\"\",\n",
    "    \"test2.db\"\n",
    ")"
   ]
  },
  {
   "cell_type": "code",
   "execution_count": null,
   "metadata": {},
   "outputs": [],
   "source": [
    "execute_sql_db(\n",
    "    \"\"\"\n",
    "    SELECT * FROM Customers\n",
    "    WHERE City = \"London\" OR Country = \"UK\";\n",
    "    \"\"\",\n",
    "    \"test2.db\"\n",
    ")"
   ]
  },
  {
   "cell_type": "code",
   "execution_count": null,
   "metadata": {},
   "outputs": [],
   "source": [
    "# sqlite 에서 SOME 함수는 지원되지 않습니다.\n",
    "execute_sql_db(\n",
    "    \"\"\"\n",
    "    SELECT * FROM Products\n",
    "    WHERE Price > SOME (SELECT Price FROM Products WHERE Price > 20);\n",
    "    \"\"\",\n",
    "    \"test2.db\"\n",
    ")"
   ]
  }
 ],
 "metadata": {
  "kernelspec": {
   "display_name": ".venv",
   "language": "python",
   "name": "python3"
  },
  "language_info": {
   "codemirror_mode": {
    "name": "ipython",
    "version": 3
   },
   "file_extension": ".py",
   "mimetype": "text/x-python",
   "name": "python",
   "nbconvert_exporter": "python",
   "pygments_lexer": "ipython3",
   "version": "3.12.4"
  }
 },
 "nbformat": 4,
 "nbformat_minor": 2
}
